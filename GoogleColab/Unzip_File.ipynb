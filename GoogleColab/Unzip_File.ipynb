{
  "nbformat": 4,
  "nbformat_minor": 0,
  "metadata": {
    "colab": {
      "provenance": []
    },
    "kernelspec": {
      "name": "python3",
      "display_name": "Python 3"
    },
    "language_info": {
      "name": "python"
    }
  },
  "cells": [
    {
      "cell_type": "markdown",
      "source": [
        "# Unzip file on Google Colab"
      ],
      "metadata": {
        "id": "NIPyFgK-70P4"
      }
    },
    {
      "cell_type": "code",
      "execution_count": null,
      "metadata": {
        "id": "_z9W05mA7yut"
      },
      "outputs": [],
      "source": [
        "from google.colab import drive\n",
        "import zipfile\n",
        "import os\n",
        "\n",
        "# Mount Google Drive\n",
        "drive.mount('/content/drive')\n",
        "\n",
        "# Define the path to the ZIP file in your Google Drive\n",
        "zip_file_path = '/content/drive/MyDrive/upgrad/Project_data1.zip'\n",
        "\n",
        "# Extract the ZIP file in the same location\n",
        "with zipfile.ZipFile(zip_file_path, 'r') as zip_ref:\n",
        "    zip_ref.extractall(os.path.dirname(zip_file_path))\n",
        "\n",
        "# List the files in the same directory\n",
        "extracted_files = os.listdir(os.path.dirname(zip_file_path))\n",
        "print(\"Extracted files:\")\n",
        "for file in extracted_files:\n",
        "    print(file)"
      ]
    }
  ]
}